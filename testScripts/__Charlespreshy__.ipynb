{
 "cells": [
  {
   "cell_type": "code",
   "execution_count": 1,
   "metadata": {},
   "outputs": [
    {
     "name": "stdout",
     "output_type": "stream",
     "text": [
      "Hello World, this is  [Precious] [Charles] ,with HNGi7 ID:  HNG-06536 , using  [Python]  for stage 2 task.  princesspc16@yahoo.com\n"
     ]
    }
   ],
   "source": [
    "first_name = \"[Precious]\"\n",
    "last_name = \"[Charles]\"\n",
    "hng_id = \"HNG-06536\"\n",
    "language = \"[Python]\"\n",
    "email = \"princesspc16@yahoo.com\"\n",
    "\n",
    "def intern_details():\n",
    "    print(\"Hello World, this is \", first_name, last_name ,\",with HNGi7 ID: \",hng_id, ', using ', language,\n",
    "          ' for stage 2 task. ',email)\n",
    "\n",
    "intern_details() \n"
   ]
  }
 ],
 "metadata": {
  "kernelspec": {
   "display_name": "Python 3",
   "language": "python",
   "name": "python3"
  },
  "language_info": {
   "codemirror_mode": {
    "name": "ipython",
    "version": 3
   },
   "file_extension": ".py",
   "mimetype": "text/x-python",
   "name": "python",
   "nbconvert_exporter": "python",
   "pygments_lexer": "ipython3",
   "version": "3.7.3"
  }
 },
 "nbformat": 4,
 "nbformat_minor": 2
}
